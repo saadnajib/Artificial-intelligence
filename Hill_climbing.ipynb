{
 "cells": [
  {
   "cell_type": "code",
   "execution_count": 1,
   "metadata": {},
   "outputs": [],
   "source": [
    "import random\n",
    "target='banana'\n",
    "\n",
    "def WordGenerator():\n",
    "    result=''\n",
    "    \n",
    "    for i in range(len(target)):\n",
    "        result += chr(random.randrange(97,123))\n",
    "    return result\n",
    "\n",
    "def ScoreCalc():\n",
    "    score=0\n",
    "    word=WordGenerator()\n",
    "    for i in range(len(target)):\n",
    "        if(word[i]==target[i]):\n",
    "            score +=1\n",
    "    return score, word\n",
    "\n",
    "def MatchFinder():\n",
    "    score=0; result=''\n",
    "    while score!=len(target):\n",
    "        score_temp, res = ScoreCalc()\n",
    "        if(score_temp>score):\n",
    "            score, result = score_temp, res\n",
    "            print(result, score)\n",
    "    return result, score\n",
    "\n"
   ]
  },
  {
   "cell_type": "code",
   "execution_count": null,
   "metadata": {},
   "outputs": [
    {
     "name": "stdout",
     "output_type": "stream",
     "text": [
      "owibnj 1\n",
      "tonlza 2\n",
      "bonaqb 3\n",
      "sajana 4\n",
      "bananz 5\n"
     ]
    }
   ],
   "source": [
    "MatchFinder()"
   ]
  },
  {
   "cell_type": "code",
   "execution_count": null,
   "metadata": {},
   "outputs": [],
   "source": []
  }
 ],
 "metadata": {
  "kernelspec": {
   "display_name": "Python 3",
   "language": "python",
   "name": "python3"
  },
  "language_info": {
   "codemirror_mode": {
    "name": "ipython",
    "version": 3
   },
   "file_extension": ".py",
   "mimetype": "text/x-python",
   "name": "python",
   "nbconvert_exporter": "python",
   "pygments_lexer": "ipython3",
   "version": "3.7.3"
  }
 },
 "nbformat": 4,
 "nbformat_minor": 2
}
