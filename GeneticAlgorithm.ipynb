{
 "cells": [
  {
   "cell_type": "code",
   "execution_count": 3,
   "metadata": {},
   "outputs": [
    {
     "data": {
      "text/plain": [
       "['ydtaru', 'vlabwh', 'vlabwh', 'vzcgxm', 'utkzjk']"
      ]
     },
     "execution_count": 3,
     "metadata": {},
     "output_type": "execute_result"
    }
   ],
   "source": [
    "import random\n",
    "import operator\n",
    "target = 'banana'\n",
    "\n",
    "def WordGenerator():\n",
    "    word=''\n",
    "    for i in range(len(target)):\n",
    "        word+= chr(random.randrange(97,123))\n",
    "    return word\n",
    "\n",
    "def PopulationGen(size):\n",
    "    population= []\n",
    "    for i in range(size):\n",
    "        population.append(WordGenerator())\n",
    "    return population\n",
    "\n",
    "def ScoreChecker(word):\n",
    "    score=0\n",
    "    for i in range(len(target)):\n",
    "        if(word[i]==target[i]):\n",
    "            score+=1\n",
    "    return score\n",
    "def PerformancePop(Pop):\n",
    "    popPerf={}\n",
    "    for ind in Pop:\n",
    "        popPerf[ind]=ScoreChecker(ind)\n",
    "    return sorted(popPerf.items(),key =operator.itemgetter(1),reverse=True)\n",
    "\n",
    "def SelectParent(PopSorted,b_S,L_f):\n",
    "    ng=[]\n",
    "    for i in range(b_S):\n",
    "        ng.append(PopSorted[i][0])\n",
    "    for i in range(L_f):\n",
    "        ng.append(random.choice(PopSorted)[0])\n",
    "    random.shuffle(ng)\n",
    "    return ng\n",
    "\n",
    "SelectParent(PerformancePop(PopulationGen(8)),3,2)"
   ]
  },
  {
   "cell_type": "code",
   "execution_count": 4,
   "metadata": {},
   "outputs": [],
   "source": [
    "def createchild(ind1,ind2):\n",
    "    child=''\n",
    "    for i in range(len(target)):\n",
    "        if (random.randrange(1,100) < 50):\n",
    "            child += ind1[i]\n",
    "        else:\n",
    "            child += ind2[i]\n",
    "        \n",
    "    return child"
   ]
  },
  {
   "cell_type": "code",
   "execution_count": 5,
   "metadata": {},
   "outputs": [
    {
     "data": {
      "text/plain": [
       "'ghidel'"
      ]
     },
     "execution_count": 5,
     "metadata": {},
     "output_type": "execute_result"
    }
   ],
   "source": [
    "createchild('abcdef','ghijkl')"
   ]
  },
  {
   "cell_type": "code",
   "execution_count": 6,
   "metadata": {},
   "outputs": [
    {
     "data": {
      "text/plain": [
       "['ssxclj',\n",
       " 'sssglj',\n",
       " 'sxscnb',\n",
       " 'rssglj',\n",
       " 'rxxglb',\n",
       " 'zqgrjx',\n",
       " 'zqgzud',\n",
       " 'zqlrjd',\n",
       " 'zqlrjd',\n",
       " 'migzud',\n",
       " 'pxxxnl',\n",
       " 'szucnl',\n",
       " 'pzucml',\n",
       " 'szxcnb',\n",
       " 'pzuxnb']"
      ]
     },
     "execution_count": 6,
     "metadata": {},
     "output_type": "execute_result"
    }
   ],
   "source": [
    "def Crossover(parents, number_of_child):\n",
    "    nextPopulation = []\n",
    "    for i in range(int(len(parents)/2)):\n",
    "        for j in range(number_of_child):\n",
    "            nextPopulation.append(createchild(parents[i], parents[len(parents) -1-i]))\n",
    "    return nextPopulation\n",
    "\n",
    "\n",
    "Crossover(SelectParent(PerformancePop(PopulationGen(8)),3,3), 5)"
   ]
  },
  {
   "cell_type": "code",
   "execution_count": 7,
   "metadata": {},
   "outputs": [],
   "source": [
    "def mutateWord(word):\n",
    "    index_modification = random.randrange(len(word))\n",
    "    if (index_modification == 0):\n",
    "        word = chr(random.randrange(97,123)) + word[1:]\n",
    "    else:\n",
    "        word = word[:index_modification] + chr(random.randrange(97,123)) + word[index_modification+1:]\n",
    "    return word"
   ]
  },
  {
   "cell_type": "code",
   "execution_count": 8,
   "metadata": {},
   "outputs": [
    {
     "data": {
      "text/plain": [
       "'banasa'"
      ]
     },
     "execution_count": 8,
     "metadata": {},
     "output_type": "execute_result"
    }
   ],
   "source": [
    "mutateWord('banana')"
   ]
  },
  {
   "cell_type": "code",
   "execution_count": 9,
   "metadata": {},
   "outputs": [],
   "source": [
    "def mutatePopulation(population):\n",
    "    for i in range(len(population)):\n",
    "            population[i] = mutateWord(population[i])\n",
    "    return population"
   ]
  },
  {
   "cell_type": "code",
   "execution_count": 10,
   "metadata": {},
   "outputs": [
    {
     "name": "stdout",
     "output_type": "stream",
     "text": [
      "['fjkplx', 'mioryx', 'fowudg']\n"
     ]
    },
    {
     "data": {
      "text/plain": [
       "['fjkpli', 'miorxx', 'fowubg']"
      ]
     },
     "execution_count": 10,
     "metadata": {},
     "output_type": "execute_result"
    }
   ],
   "source": [
    "pop =PopulationGen(3)\n",
    "print(pop)\n",
    "mutatePopulation(pop)"
   ]
  },
  {
   "cell_type": "code",
   "execution_count": null,
   "metadata": {},
   "outputs": [],
   "source": []
  }
 ],
 "metadata": {
  "kernelspec": {
   "display_name": "Python 3",
   "language": "python",
   "name": "python3"
  },
  "language_info": {
   "codemirror_mode": {
    "name": "ipython",
    "version": 3
   },
   "file_extension": ".py",
   "mimetype": "text/x-python",
   "name": "python",
   "nbconvert_exporter": "python",
   "pygments_lexer": "ipython3",
   "version": "3.7.3"
  }
 },
 "nbformat": 4,
 "nbformat_minor": 2
}
