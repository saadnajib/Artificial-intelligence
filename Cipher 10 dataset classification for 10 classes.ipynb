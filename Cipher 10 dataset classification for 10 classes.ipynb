{
  "nbformat": 4,
  "nbformat_minor": 0,
  "metadata": {
    "colab": {
      "name": "project_fyp.ipynb",
      "provenance": [],
      "collapsed_sections": [],
      "include_colab_link": true
    },
    "kernelspec": {
      "name": "python3",
      "display_name": "Python 3"
    },
    "accelerator": "GPU"
  },
  "cells": [
    {
      "cell_type": "markdown",
      "metadata": {
        "id": "view-in-github",
        "colab_type": "text"
      },
      "source": [
        "<a href=\"https://colab.research.google.com/github/saadnajib/Artificial-intelligence/blob/master/Cipher%2010%20dataset%20classification%20for%2010%20classes.ipynb\" target=\"_parent\"><img src=\"https://colab.research.google.com/assets/colab-badge.svg\" alt=\"Open In Colab\"/></a>"
      ]
    },
    {
      "cell_type": "code",
      "metadata": {
        "id": "2jDGK8DL3C0d",
        "colab_type": "code",
        "outputId": "fa15fd49-012d-47f3-c757-ac247b359c95",
        "colab": {
          "base_uri": "https://localhost:8080/",
          "height": 34
        }
      },
      "source": [
        "import tensorflow as tf\n",
        "device_name = tf.test.gpu_device_name()\n",
        "if device_name != '/device:GPU:0':\n",
        "  raise SystemError('GPU device not found')\n",
        "print('Found GPU at: {}'.format(device_name))"
      ],
      "execution_count": 43,
      "outputs": [
        {
          "output_type": "stream",
          "text": [
            "Found GPU at: /device:GPU:0\n"
          ],
          "name": "stdout"
        }
      ]
    },
    {
      "cell_type": "code",
      "metadata": {
        "id": "PZ5x2Edo3TCs",
        "colab_type": "code",
        "colab": {}
      },
      "source": [
        "import numpy as np\n",
        "import matplotlib.pyplot as plt\n",
        "%matplotlib inline\n",
        "from __future__ import print_function\n",
        "import tensorflow as tf\n",
        "import keras\n",
        "from keras.models import Sequential\n",
        "from keras.models import Model\n",
        "from keras.utils import to_categorical\n",
        "from keras.layers import Dense, Conv2D, MaxPooling2D, Dropout, Flatten"
      ],
      "execution_count": 0,
      "outputs": []
    },
    {
      "cell_type": "code",
      "metadata": {
        "id": "UIbC_NNQ3TPg",
        "colab_type": "code",
        "colab": {}
      },
      "source": [
        "from keras.datasets import cifar10\n",
        "(train_images, train_labels), (test_images, test_labels) = cifar10.load_data()\n"
      ],
      "execution_count": 0,
      "outputs": []
    },
    {
      "cell_type": "code",
      "metadata": {
        "id": "2ug0YHj8bK05",
        "colab_type": "code",
        "colab": {
          "base_uri": "https://localhost:8080/",
          "height": 125
        },
        "outputId": "ae538079-5360-4a56-b970-cae306c08f50"
      },
      "source": [
        "from google.colab import drive\n",
        "drive.mount('/content/drive')\n"
      ],
      "execution_count": 16,
      "outputs": [
        {
          "output_type": "stream",
          "text": [
            "Go to this URL in a browser: https://accounts.google.com/o/oauth2/auth?client_id=947318989803-6bn6qk8qdgf4n4g3pfee6491hc0brc4i.apps.googleusercontent.com&redirect_uri=urn%3aietf%3awg%3aoauth%3a2.0%3aoob&response_type=code&scope=email%20https%3a%2f%2fwww.googleapis.com%2fauth%2fdocs.test%20https%3a%2f%2fwww.googleapis.com%2fauth%2fdrive%20https%3a%2f%2fwww.googleapis.com%2fauth%2fdrive.photos.readonly%20https%3a%2f%2fwww.googleapis.com%2fauth%2fpeopleapi.readonly\n",
            "\n",
            "Enter your authorization code:\n",
            "··········\n",
            "Mounted at /content/drive\n"
          ],
          "name": "stdout"
        }
      ]
    },
    {
      "cell_type": "code",
      "metadata": {
        "id": "-NWdZc-a3TSN",
        "colab_type": "code",
        "outputId": "b8e5b789-fad3-481c-8421-52cda42fe8c1",
        "colab": {
          "base_uri": "https://localhost:8080/",
          "height": 253
        }
      },
      "source": [
        "print('Training data shape : ', train_images.shape, train_labels.shape)\n",
        "\n",
        "print('Testing data shape : ', test_images.shape, test_labels.shape)\n",
        "\n",
        "# Find the unique numbers from the train labels\n",
        "classes = np.unique(train_labels)\n",
        "nClasses = len(classes)\n",
        "print('Total number of outputs : ', nClasses)\n",
        "print('Output classes : ', classes)\n",
        "\n",
        "plt.figure(figsize=[4,2])\n",
        "\n",
        "# Display the first image in training data\n",
        "plt.subplot(121)\n",
        "plt.imshow(train_images[0,:,:], cmap='gray')\n",
        "plt.title(\"Ground Truth : {}\".format(train_labels[0]))\n",
        "\n",
        "# Display the first image in testing data\n",
        "plt.subplot(122)\n",
        "plt.imshow(test_images[0,:,:], cmap='gray')\n",
        "plt.title(\"Ground Truth : {}\".format(test_labels[0]))"
      ],
      "execution_count": 46,
      "outputs": [
        {
          "output_type": "stream",
          "text": [
            "Training data shape :  (50000, 32, 32, 3) (50000, 1)\n",
            "Testing data shape :  (10000, 32, 32, 3) (10000, 1)\n",
            "Total number of outputs :  10\n",
            "Output classes :  [0 1 2 3 4 5 6 7 8 9]\n"
          ],
          "name": "stdout"
        },
        {
          "output_type": "execute_result",
          "data": {
            "text/plain": [
              "Text(0.5, 1.0, 'Ground Truth : [3]')"
            ]
          },
          "metadata": {
            "tags": []
          },
          "execution_count": 46
        },
        {
          "output_type": "display_data",
          "data": {
            "image/png": "[encoded data removed]",
            "text/plain": [
              "<Figure size 288x144 with 2 Axes>"
            ]
          },
          "metadata": {
            "tags": []
          }
        }
      ]
    },
    {
      "cell_type": "code",
      "metadata": {
        "id": "uW69-0eP3TUt",
        "colab_type": "code",
        "outputId": "f3579b5f-30b1-49bc-b82f-55939f0062d2",
        "colab": {
          "base_uri": "https://localhost:8080/",
          "height": 34
        }
      },
      "source": [
        "nRows,nCols,nDims = train_images.shape[1:]\n",
        "\n",
        "train_data = train_images.reshape(train_images.shape[0], nRows, nCols, nDims)\n",
        "test_data = test_images.reshape(test_images.shape[0], nRows, nCols, nDims)\n",
        "input_shape = (nRows, nCols, nDims)\n",
        "print(train_images[0].size)\n",
        "\n",
        "train_data = train_data.astype('float32')\n",
        "test_data = test_data.astype('float32')"
      ],
      "execution_count": 47,
      "outputs": [
        {
          "output_type": "stream",
          "text": [
            "3072\n"
          ],
          "name": "stdout"
        }
      ]
    },
    {
      "cell_type": "code",
      "metadata": {
        "id": "ozezhBxN3TXe",
        "colab_type": "code",
        "colab": {}
      },
      "source": [
        "train_data /= 255\n",
        "test_data /= 255\n",
        "\n",
        "\n",
        "train_labels_one_hot = to_categorical(train_labels)\n",
        "test_labels_one_hot = to_categorical(test_labels)\n"
      ],
      "execution_count": 0,
      "outputs": []
    },
    {
      "cell_type": "code",
      "metadata": {
        "id": "jHRnhl9G3TaK",
        "colab_type": "code",
        "outputId": "87d151b2-30a3-45b5-f497-35a51ca9fb6f",
        "colab": {
          "base_uri": "https://localhost:8080/",
          "height": 52
        }
      },
      "source": [
        "print('Original label 0 : ', train_labels[0])\n",
        "print('After conversion to categorical ( one-hot ) : ', train_labels_one_hot[0])"
      ],
      "execution_count": 49,
      "outputs": [
        {
          "output_type": "stream",
          "text": [
            "Original label 0 :  [6]\n",
            "After conversion to categorical ( one-hot ) :  [0. 0. 0. 0. 0. 0. 1. 0. 0. 0.]\n"
          ],
          "name": "stdout"
        }
      ]
    },
    {
      "cell_type": "code",
      "metadata": {
        "id": "c6Peaxld3Tcw",
        "colab_type": "code",
        "colab": {}
      },
      "source": [
        "def createModel():\n",
        "    model = Sequential()\n",
        "    # The first two layers with 32 filters of window size 3x3\n",
        "    model.add(Conv2D(32, (3, 3), padding='same', activation='relu', input_shape=input_shape))\n",
        "    model.add(Conv2D(32, (3, 3), activation='relu'))\n",
        "    model.add(MaxPooling2D(pool_size=(2, 2)))\n",
        "    model.add(Dropout(0.25))\n",
        "\n",
        "    model.add(Conv2D(64, (3, 3), padding='same', activation='relu',name='conv_1'))\n",
        "    model.add(Conv2D(64, (3, 3), activation='relu'))\n",
        "    model.add(MaxPooling2D(pool_size=(2, 2)))\n",
        "    model.add(Dropout(0.25))\n",
        "\n",
        "    model.add(Conv2D(64, (3, 3), padding='same', activation='relu'))\n",
        "    model.add(Conv2D(64, (3, 3), activation='relu'))\n",
        "    model.add(MaxPooling2D(pool_size=(2, 2)))\n",
        "    model.add(Dropout(0.25))\n",
        "\n",
        "    model.add(Flatten())\n",
        "    model.add(Dense(512, activation='relu'))\n",
        "    model.add(Dropout(0.5))\n",
        "    model.add(Dense(nClasses, activation='softmax'))\n",
        "    \n",
        "    return model"
      ],
      "execution_count": 0,
      "outputs": []
    },
    {
      "cell_type": "code",
      "metadata": {
        "id": "rPgL6cC63Tfj",
        "colab_type": "code",
        "colab": {}
      },
      "source": [
        "model1 = createModel()\n",
        "batch_size = 256\n",
        "epochs = 100\n",
        "model1.compile(optimizer='rmsprop', loss='categorical_crossentropy', metrics=['accuracy'])"
      ],
      "execution_count": 0,
      "outputs": []
    },
    {
      "cell_type": "code",
      "metadata": {
        "id": "RevGZJho3Th3",
        "colab_type": "code",
        "outputId": "f52de150-8d7a-4ba2-c580-c545c98153e6",
        "colab": {
          "base_uri": "https://localhost:8080/",
          "height": 721
        }
      },
      "source": [
        "model1.summary()"
      ],
      "execution_count": 66,
      "outputs": [
        {
          "output_type": "stream",
          "text": [
            "Model: \"sequential_9\"\n",
            "_________________________________________________________________\n",
            "Layer (type)                 Output Shape              Param #   \n",
            "=================================================================\n",
            "conv2d_41 (Conv2D)           (None, 32, 32, 32)        896       \n",
            "_________________________________________________________________\n",
            "conv2d_42 (Conv2D)           (None, 30, 30, 32)        9248      \n",
            "_________________________________________________________________\n",
            "max_pooling2d_25 (MaxPooling (None, 15, 15, 32)        0         \n",
            "_________________________________________________________________\n",
            "dropout_33 (Dropout)         (None, 15, 15, 32)        0         \n",
            "_________________________________________________________________\n",
            "conv_1 (Conv2D)              (None, 15, 15, 64)        18496     \n",
            "_________________________________________________________________\n",
            "conv2d_43 (Conv2D)           (None, 13, 13, 64)        36928     \n",
            "_________________________________________________________________\n",
            "max_pooling2d_26 (MaxPooling (None, 6, 6, 64)          0         \n",
            "_________________________________________________________________\n",
            "dropout_34 (Dropout)         (None, 6, 6, 64)          0         \n",
            "_________________________________________________________________\n",
            "conv2d_44 (Conv2D)           (None, 6, 6, 64)          36928     \n",
            "_________________________________________________________________\n",
            "conv2d_45 (Conv2D)           (None, 4, 4, 64)          36928     \n",
            "_________________________________________________________________\n",
            "max_pooling2d_27 (MaxPooling (None, 2, 2, 64)          0         \n",
            "_________________________________________________________________\n",
            "dropout_35 (Dropout)         (None, 2, 2, 64)          0         \n",
            "_________________________________________________________________\n",
            "flatten_9 (Flatten)          (None, 256)               0         \n",
            "_________________________________________________________________\n",
            "dense_17 (Dense)             (None, 512)               131584    \n",
            "_________________________________________________________________\n",
            "dropout_36 (Dropout)         (None, 512)               0         \n",
            "_________________________________________________________________\n",
            "dense_18 (Dense)             (None, 10)                5130      \n",
            "=================================================================\n",
            "Total params: 276,138\n",
            "Trainable params: 276,138\n",
            "Non-trainable params: 0\n",
            "_________________________________________________________________\n"
          ],
          "name": "stdout"
        }
      ]
    },
    {
      "cell_type": "code",
      "metadata": {
        "id": "WhmlnjNI3Tkp",
        "colab_type": "code",
        "outputId": "b486c7c9-7eb6-4199-f039-351ee19e1fd5",
        "colab": {
          "base_uri": "https://localhost:8080/",
          "height": 1000
        }
      },
      "source": [
        "history = model1.fit(train_data, train_labels_one_hot, batch_size=batch_size, epochs=epochs, verbose=1, \n",
        "                   validation_data=(test_data, test_labels_one_hot))\n",
        "\n",
        "scores = model1.evaluate(test_data, test_labels_one_hot, verbose=1)\n",
        "print('Test loss:', scores[0])\n",
        "print('Test accuracy:', scores[1])"
      ],
      "execution_count": 0,
      "outputs": [
        {
          "output_type": "stream",
          "text": [
            "Train on 50000 samples, validate on 10000 samples\n",
            "Epoch 1/100\n",
            "50000/50000 [==============================] - 4s 90us/step - loss: 2.0715 - acc: 0.2401 - val_loss: 1.7951 - val_acc: 0.3761\n",
            "Epoch 2/100\n",
            "50000/50000 [==============================] - 4s 71us/step - loss: 1.7196 - acc: 0.3748 - val_loss: 1.4511 - val_acc: 0.4620\n",
            "Epoch 3/100\n",
            "50000/50000 [==============================] - 4s 71us/step - loss: 1.5471 - acc: 0.4387 - val_loss: 1.3672 - val_acc: 0.5080\n",
            "Epoch 4/100\n",
            "50000/50000 [==============================] - 4s 72us/step - loss: 1.4005 - acc: 0.4964 - val_loss: 1.3205 - val_acc: 0.5191\n",
            "Epoch 5/100\n",
            "50000/50000 [==============================] - 4s 71us/step - loss: 1.2895 - acc: 0.5409 - val_loss: 1.1139 - val_acc: 0.5969\n",
            "Epoch 6/100\n",
            "50000/50000 [==============================] - 4s 71us/step - loss: 1.2013 - acc: 0.5747 - val_loss: 1.2735 - val_acc: 0.5409\n",
            "Epoch 7/100\n",
            "50000/50000 [==============================] - 4s 71us/step - loss: 1.1197 - acc: 0.6045 - val_loss: 0.9986 - val_acc: 0.6515\n",
            "Epoch 8/100\n",
            "50000/50000 [==============================] - 4s 71us/step - loss: 1.0571 - acc: 0.6269 - val_loss: 1.0210 - val_acc: 0.6428\n",
            "Epoch 9/100\n",
            "50000/50000 [==============================] - 4s 71us/step - loss: 1.0003 - acc: 0.6474 - val_loss: 0.9670 - val_acc: 0.6614\n",
            "Epoch 10/100\n",
            "50000/50000 [==============================] - 4s 71us/step - loss: 0.9473 - acc: 0.6702 - val_loss: 1.0514 - val_acc: 0.6375\n",
            "Epoch 11/100\n",
            "50000/50000 [==============================] - 4s 71us/step - loss: 0.9084 - acc: 0.6807 - val_loss: 0.8611 - val_acc: 0.6999\n",
            "Epoch 12/100\n",
            "50000/50000 [==============================] - 4s 71us/step - loss: 0.8658 - acc: 0.6974 - val_loss: 0.8884 - val_acc: 0.6871\n",
            "Epoch 13/100\n",
            "50000/50000 [==============================] - 4s 71us/step - loss: 0.8314 - acc: 0.7112 - val_loss: 0.9087 - val_acc: 0.6883\n",
            "Epoch 14/100\n",
            "50000/50000 [==============================] - 4s 70us/step - loss: 0.8005 - acc: 0.7221 - val_loss: 0.7804 - val_acc: 0.7315\n",
            "Epoch 15/100\n",
            "50000/50000 [==============================] - 4s 71us/step - loss: 0.7715 - acc: 0.7311 - val_loss: 0.7997 - val_acc: 0.7223\n",
            "Epoch 16/100\n",
            "50000/50000 [==============================] - 4s 70us/step - loss: 0.7511 - acc: 0.7378 - val_loss: 0.7581 - val_acc: 0.7362\n",
            "Epoch 17/100\n",
            "50000/50000 [==============================] - 4s 71us/step - loss: 0.7229 - acc: 0.7498 - val_loss: 0.7344 - val_acc: 0.7466\n",
            "Epoch 18/100\n",
            "50000/50000 [==============================] - 4s 71us/step - loss: 0.6971 - acc: 0.7596 - val_loss: 0.8140 - val_acc: 0.7282\n",
            "Epoch 19/100\n",
            "50000/50000 [==============================] - 4s 70us/step - loss: 0.6855 - acc: 0.7618 - val_loss: 0.7230 - val_acc: 0.7523\n",
            "Epoch 20/100\n",
            "50000/50000 [==============================] - 4s 71us/step - loss: 0.6658 - acc: 0.7697 - val_loss: 0.6955 - val_acc: 0.7633\n",
            "Epoch 21/100\n",
            "50000/50000 [==============================] - 4s 72us/step - loss: 0.6478 - acc: 0.7756 - val_loss: 0.7607 - val_acc: 0.7421\n",
            "Epoch 22/100\n",
            "50000/50000 [==============================] - 4s 72us/step - loss: 0.6363 - acc: 0.7785 - val_loss: 0.7018 - val_acc: 0.7709\n",
            "Epoch 23/100\n",
            "50000/50000 [==============================] - 4s 71us/step - loss: 0.6184 - acc: 0.7847 - val_loss: 0.6947 - val_acc: 0.7624\n",
            "Epoch 24/100\n",
            "50000/50000 [==============================] - 4s 71us/step - loss: 0.6108 - acc: 0.7883 - val_loss: 0.6728 - val_acc: 0.7789\n",
            "Epoch 25/100\n",
            "50000/50000 [==============================] - 4s 71us/step - loss: 0.6031 - acc: 0.7914 - val_loss: 0.7016 - val_acc: 0.7663\n",
            "Epoch 26/100\n",
            "50000/50000 [==============================] - 4s 71us/step - loss: 0.5875 - acc: 0.7980 - val_loss: 0.7598 - val_acc: 0.7587\n",
            "Epoch 27/100\n",
            "50000/50000 [==============================] - 4s 71us/step - loss: 0.5805 - acc: 0.7998 - val_loss: 0.6310 - val_acc: 0.7890\n",
            "Epoch 28/100\n",
            "50000/50000 [==============================] - 4s 71us/step - loss: 0.5716 - acc: 0.8018 - val_loss: 0.7343 - val_acc: 0.7642\n",
            "Epoch 29/100\n",
            "50000/50000 [==============================] - 4s 70us/step - loss: 0.5596 - acc: 0.8056 - val_loss: 0.6473 - val_acc: 0.7826\n",
            "Epoch 30/100\n",
            "50000/50000 [==============================] - 4s 70us/step - loss: 0.5478 - acc: 0.8097 - val_loss: 0.6313 - val_acc: 0.7952\n",
            "Epoch 31/100\n",
            "50000/50000 [==============================] - 4s 70us/step - loss: 0.5419 - acc: 0.8119 - val_loss: 0.6258 - val_acc: 0.7920\n",
            "Epoch 32/100\n",
            "50000/50000 [==============================] - 4s 71us/step - loss: 0.5425 - acc: 0.8112 - val_loss: 0.6373 - val_acc: 0.7914\n",
            "Epoch 33/100\n",
            "50000/50000 [==============================] - 4s 71us/step - loss: 0.5336 - acc: 0.8155 - val_loss: 0.8128 - val_acc: 0.7492\n",
            "Epoch 34/100\n",
            "50000/50000 [==============================] - 4s 71us/step - loss: 0.5300 - acc: 0.8174 - val_loss: 0.9164 - val_acc: 0.7325\n",
            "Epoch 35/100\n",
            "50000/50000 [==============================] - 4s 71us/step - loss: 0.5279 - acc: 0.8173 - val_loss: 0.5676 - val_acc: 0.8115\n",
            "Epoch 36/100\n",
            "50000/50000 [==============================] - 4s 71us/step - loss: 0.5130 - acc: 0.8221 - val_loss: 0.6367 - val_acc: 0.7976\n",
            "Epoch 37/100\n",
            "50000/50000 [==============================] - 4s 71us/step - loss: 0.5112 - acc: 0.8225 - val_loss: 0.6336 - val_acc: 0.8016\n",
            "Epoch 38/100\n",
            "50000/50000 [==============================] - 4s 70us/step - loss: 0.5052 - acc: 0.8252 - val_loss: 0.6085 - val_acc: 0.8033\n",
            "Epoch 39/100\n",
            "50000/50000 [==============================] - 4s 70us/step - loss: 0.5035 - acc: 0.8260 - val_loss: 0.7377 - val_acc: 0.7678\n",
            "Epoch 40/100\n",
            "50000/50000 [==============================] - 3s 70us/step - loss: 0.5002 - acc: 0.8271 - val_loss: 0.6665 - val_acc: 0.7829\n",
            "Epoch 41/100\n",
            "50000/50000 [==============================] - 3s 70us/step - loss: 0.5027 - acc: 0.8256 - val_loss: 0.7279 - val_acc: 0.7798\n",
            "Epoch 42/100\n",
            "50000/50000 [==============================] - 3s 69us/step - loss: 0.4901 - acc: 0.8302 - val_loss: 0.6422 - val_acc: 0.7885\n",
            "Epoch 43/100\n",
            "50000/50000 [==============================] - 4s 70us/step - loss: 0.4830 - acc: 0.8332 - val_loss: 0.7705 - val_acc: 0.7667\n",
            "Epoch 44/100\n",
            "50000/50000 [==============================] - 4s 70us/step - loss: 0.4876 - acc: 0.8326 - val_loss: 0.6637 - val_acc: 0.7880\n",
            "Epoch 45/100\n",
            "50000/50000 [==============================] - 3s 70us/step - loss: 0.4817 - acc: 0.8341 - val_loss: 0.6569 - val_acc: 0.7953\n",
            "Epoch 46/100\n",
            "50000/50000 [==============================] - 3s 69us/step - loss: 0.4765 - acc: 0.8342 - val_loss: 0.6712 - val_acc: 0.7945\n",
            "Epoch 47/100\n",
            "50000/50000 [==============================] - 3s 69us/step - loss: 0.4738 - acc: 0.8364 - val_loss: 0.6243 - val_acc: 0.8028\n",
            "Epoch 48/100\n",
            "50000/50000 [==============================] - 3s 70us/step - loss: 0.4724 - acc: 0.8393 - val_loss: 0.6659 - val_acc: 0.7991\n",
            "Epoch 49/100\n",
            "50000/50000 [==============================] - 3s 69us/step - loss: 0.4698 - acc: 0.8384 - val_loss: 0.7349 - val_acc: 0.7855\n",
            "Epoch 50/100\n",
            "50000/50000 [==============================] - 3s 69us/step - loss: 0.4694 - acc: 0.8392 - val_loss: 0.7360 - val_acc: 0.7880\n",
            "Epoch 51/100\n",
            "50000/50000 [==============================] - 3s 70us/step - loss: 0.4656 - acc: 0.8394 - val_loss: 0.6848 - val_acc: 0.7876\n",
            "Epoch 52/100\n",
            "50000/50000 [==============================] - 3s 70us/step - loss: 0.4614 - acc: 0.8425 - val_loss: 0.6377 - val_acc: 0.8125\n",
            "Epoch 53/100\n",
            "50000/50000 [==============================] - 3s 69us/step - loss: 0.4618 - acc: 0.8426 - val_loss: 0.6872 - val_acc: 0.7974\n",
            "Epoch 54/100\n",
            "50000/50000 [==============================] - 3s 69us/step - loss: 0.4645 - acc: 0.8413 - val_loss: 0.6368 - val_acc: 0.8083\n",
            "Epoch 55/100\n",
            "50000/50000 [==============================] - 4s 70us/step - loss: 0.4623 - acc: 0.8409 - val_loss: 0.6713 - val_acc: 0.8015\n",
            "Epoch 56/100\n",
            "50000/50000 [==============================] - 3s 70us/step - loss: 0.4549 - acc: 0.8431 - val_loss: 0.6151 - val_acc: 0.8096\n",
            "Epoch 57/100\n",
            "50000/50000 [==============================] - 3s 69us/step - loss: 0.4560 - acc: 0.8441 - val_loss: 0.7664 - val_acc: 0.7752\n",
            "Epoch 58/100\n",
            "50000/50000 [==============================] - 3s 69us/step - loss: 0.4529 - acc: 0.8448 - val_loss: 0.6825 - val_acc: 0.7960\n",
            "Epoch 59/100\n",
            "50000/50000 [==============================] - 3s 69us/step - loss: 0.4546 - acc: 0.8430 - val_loss: 0.6398 - val_acc: 0.8038\n",
            "Epoch 60/100\n",
            "50000/50000 [==============================] - 3s 68us/step - loss: 0.4508 - acc: 0.8442 - val_loss: 0.6510 - val_acc: 0.8049\n",
            "Epoch 61/100\n",
            "50000/50000 [==============================] - 3s 69us/step - loss: 0.4543 - acc: 0.8448 - val_loss: 0.6339 - val_acc: 0.8037\n",
            "Epoch 62/100\n",
            "50000/50000 [==============================] - 3s 69us/step - loss: 0.4458 - acc: 0.8487 - val_loss: 0.6613 - val_acc: 0.8092\n",
            "Epoch 63/100\n",
            "50000/50000 [==============================] - 3s 69us/step - loss: 0.4498 - acc: 0.8453 - val_loss: 0.7681 - val_acc: 0.7923\n",
            "Epoch 64/100\n",
            "50000/50000 [==============================] - 3s 70us/step - loss: 0.4478 - acc: 0.8473 - val_loss: 0.6558 - val_acc: 0.7977\n",
            "Epoch 65/100\n",
            "50000/50000 [==============================] - 3s 70us/step - loss: 0.4452 - acc: 0.8491 - val_loss: 0.6795 - val_acc: 0.7937\n",
            "Epoch 66/100\n",
            "50000/50000 [==============================] - 3s 69us/step - loss: 0.4410 - acc: 0.8496 - val_loss: 0.6523 - val_acc: 0.8127\n",
            "Epoch 67/100\n",
            "50000/50000 [==============================] - 3s 69us/step - loss: 0.4457 - acc: 0.8503 - val_loss: 0.7486 - val_acc: 0.7817\n",
            "Epoch 68/100\n",
            "50000/50000 [==============================] - 3s 70us/step - loss: 0.4415 - acc: 0.8491 - val_loss: 0.7070 - val_acc: 0.7940\n",
            "Epoch 69/100\n",
            "50000/50000 [==============================] - 3s 69us/step - loss: 0.4410 - acc: 0.8488 - val_loss: 0.5943 - val_acc: 0.8077\n",
            "Epoch 70/100\n",
            "50000/50000 [==============================] - 3s 69us/step - loss: 0.4480 - acc: 0.8483 - val_loss: 0.6303 - val_acc: 0.8030\n",
            "Epoch 71/100\n",
            "50000/50000 [==============================] - 3s 69us/step - loss: 0.4418 - acc: 0.8509 - val_loss: 0.6818 - val_acc: 0.7879\n",
            "Epoch 72/100\n",
            "50000/50000 [==============================] - 3s 70us/step - loss: 0.4411 - acc: 0.8482 - val_loss: 0.6785 - val_acc: 0.7992\n",
            "Epoch 73/100\n",
            "50000/50000 [==============================] - 3s 70us/step - loss: 0.4416 - acc: 0.8502 - val_loss: 0.7391 - val_acc: 0.7835\n",
            "Epoch 74/100\n",
            "50000/50000 [==============================] - 4s 71us/step - loss: 0.4456 - acc: 0.8493 - val_loss: 0.7617 - val_acc: 0.7805\n",
            "Epoch 75/100\n",
            "50000/50000 [==============================] - 4s 72us/step - loss: 0.4455 - acc: 0.8496 - val_loss: 0.6181 - val_acc: 0.8168\n",
            "Epoch 76/100\n",
            "50000/50000 [==============================] - 4s 70us/step - loss: 0.4398 - acc: 0.8514 - val_loss: 0.6251 - val_acc: 0.8174\n",
            "Epoch 77/100\n",
            "50000/50000 [==============================] - 3s 70us/step - loss: 0.4340 - acc: 0.8535 - val_loss: 0.6620 - val_acc: 0.7965\n",
            "Epoch 78/100\n",
            "50000/50000 [==============================] - 4s 70us/step - loss: 0.4394 - acc: 0.8538 - val_loss: 0.6714 - val_acc: 0.8037\n",
            "Epoch 79/100\n",
            "50000/50000 [==============================] - 4s 70us/step - loss: 0.4349 - acc: 0.8545 - val_loss: 0.6620 - val_acc: 0.7969\n",
            "Epoch 80/100\n",
            "50000/50000 [==============================] - 3s 70us/step - loss: 0.4361 - acc: 0.8518 - val_loss: 0.6245 - val_acc: 0.8078\n",
            "Epoch 81/100\n",
            "50000/50000 [==============================] - 3s 70us/step - loss: 0.4377 - acc: 0.8518 - val_loss: 0.6897 - val_acc: 0.7881\n",
            "Epoch 82/100\n",
            "50000/50000 [==============================] - 3s 69us/step - loss: 0.4395 - acc: 0.8520 - val_loss: 0.6871 - val_acc: 0.7984\n",
            "Epoch 83/100\n",
            "50000/50000 [==============================] - 3s 69us/step - loss: 0.4369 - acc: 0.8509 - val_loss: 0.6356 - val_acc: 0.8067\n",
            "Epoch 84/100\n",
            "50000/50000 [==============================] - 3s 69us/step - loss: 0.4360 - acc: 0.8520 - val_loss: 0.6225 - val_acc: 0.8106\n",
            "Epoch 85/100\n",
            "50000/50000 [==============================] - 4s 70us/step - loss: 0.4413 - acc: 0.8509 - val_loss: 0.6534 - val_acc: 0.8032\n",
            "Epoch 86/100\n",
            "50000/50000 [==============================] - 3s 70us/step - loss: 0.4319 - acc: 0.8544 - val_loss: 0.7689 - val_acc: 0.7999\n",
            "Epoch 87/100\n",
            "50000/50000 [==============================] - 3s 69us/step - loss: 0.4337 - acc: 0.8547 - val_loss: 0.6348 - val_acc: 0.7999\n",
            "Epoch 88/100\n",
            "50000/50000 [==============================] - 3s 69us/step - loss: 0.4388 - acc: 0.8524 - val_loss: 0.8635 - val_acc: 0.7510\n",
            "Epoch 89/100\n",
            "10496/50000 [=====>........................] - ETA: 2s - loss: 0.4215 - acc: 0.8580"
          ],
          "name": "stdout"
        }
      ]
    },
    {
      "cell_type": "code",
      "metadata": {
        "id": "JfLf9L3ChNfV",
        "colab_type": "code",
        "colab": {}
      },
      "source": [
        "\n",
        "# list all data in history\n",
        "print(history.history.keys())\n",
        "# summarize history for accuracy\n",
        "plt.plot(history.history['acc'])\n",
        "plt.plot(history.history['val_acc'])\n",
        "plt.title('model accuracy')\n",
        "plt.ylabel('accuracy')\n",
        "plt.xlabel('epoch')\n",
        "plt.legend(['train_data', 'test_data'], loc='upper left')\n",
        "plt.show()\n",
        "# summarize history for loss\n",
        "plt.plot(history.history['loss'])\n",
        "plt.plot(history.history['val_loss'])\n",
        "plt.title('model loss')\n",
        "plt.ylabel('loss')\n",
        "plt.xlabel('epoch')\n",
        "plt.legend(['train_data', 'test_data'], loc='upper left')\n",
        "plt.show()"
      ],
      "execution_count": 0,
      "outputs": []
    },
    {
      "cell_type": "code",
      "metadata": {
        "id": "Q0V9z2edN4w8",
        "colab_type": "code",
        "colab": {}
      },
      "source": [
        "model1.save('/content/drive/My Drive/Colab Notebooks/79percentacc_model.h5')"
      ],
      "execution_count": 0,
      "outputs": []
    },
    {
      "cell_type": "code",
      "metadata": {
        "id": "OyYXyMhfXctC",
        "colab_type": "code",
        "outputId": "bb123660-d06c-4530-af72-af474611b022",
        "colab": {
          "base_uri": "https://localhost:8080/",
          "height": 425
        }
      },
      "source": [
        "def pdimage(image_path):\n",
        "  from keras.preprocessing.image import load_img\n",
        "  from keras.preprocessing.image import img_to_array\n",
        "  from keras.preprocessing.image import array_to_img\n",
        "  img = load_img(image_path)\n",
        "  print(type(img))\n",
        "  \n",
        "  #resize\n",
        "  img=img.resize((32,32))\n",
        "  plt.imshow(img, cmap='gray')\n",
        "  print(img)\n",
        "  fxpic = img_to_array(img)\n",
        " \n",
        "  #details print\n",
        "  print(fxpic.dtype)\n",
        "  print(fxpic.shape)\n",
        "  print(fxpic.size)\n",
        "  \n",
        " #adding 4th dim and converting to float \n",
        " # imagefx = np.expand_dims(fxpic, axis=0)\n",
        "  fxpic=fxpic.reshape(1,32,32,3)\n",
        "  fxpic=fxpic.astype('float32')\n",
        "  fxpic /=255\n",
        "  mb=model1.predict(fxpic)\n",
        "  print(mb)\n",
        "  index_max = np.where(mb == np.amax(mb))\n",
        "  findex=int(index_max[1])\n",
        "  print(findex)\n",
        "  lab=['airplane', 'automobile', 'bird', 'cat', 'deer', 'dog', 'frog', 'horse', 'ship', 'truck']\n",
        "  a=lab[findex]\n",
        "  print(a)\n",
        "\n",
        "pdimage('/content/drive/My Drive/Colab Notebooks/deer.jpg')\n"
      ],
      "execution_count": 61,
      "outputs": [
        {
          "output_type": "stream",
          "text": [
            "<class 'PIL.JpegImagePlugin.JpegImageFile'>\n",
            "<PIL.Image.Image image mode=RGB size=32x32 at 0x7FC21CE8C780>\n",
            "float32\n",
            "(32, 32, 3)\n",
            "3072\n",
            "[[1.0035032e-04 4.9642908e-09 8.7061161e-03 2.7585526e-03 8.6538422e-01\n",
            "  3.2337230e-02 6.2258689e-05 9.0649419e-02 9.6104782e-07 8.7692541e-07]]\n",
            "4\n",
            "deer\n"
          ],
          "name": "stdout"
        },
        {
          "output_type": "display_data",
          "data": {
            "image/png": "[encoded data removed]",
            "text/plain": [
              "<Figure size 432x288 with 1 Axes>"
            ]
          },
          "metadata": {
            "tags": []
          }
        }
      ]
    },
    {
      "cell_type": "code",
      "metadata": {
        "id": "_V97mdxaIkQB",
        "colab_type": "code",
        "outputId": "3209ace4-0f69-488d-b112-e06ad75658b3",
        "colab": {
          "base_uri": "https://localhost:8080/",
          "height": 70
        }
      },
      "source": [
        "model1.predict(fxpic)"
      ],
      "execution_count": 0,
      "outputs": [
        {
          "output_type": "execute_result",
          "data": {
            "text/plain": [
              "array([[0.20037948, 0.1121378 , 0.05806703, 0.1384548 , 0.06207112,\n",
              "        0.06113269, 0.0547168 , 0.07181831, 0.1008398 , 0.14038217]],\n",
              "      dtype=float32)"
            ]
          },
          "metadata": {
            "tags": []
          },
          "execution_count": 174
        }
      ]
    },
    {
      "cell_type": "code",
      "metadata": {
        "id": "dovNTguf3Tn9",
        "colab_type": "code",
        "colab": {}
      },
      "source": [
        "    from keras import backend as K\n",
        "\n",
        "    input1 = model1.input               # input placeholder\n",
        "\n",
        "    output1 = [layer.output for layer in model1.layers]# all layer outputs\n",
        "\n",
        "    fun = K.function([input1, K.learning_phase()],output1)# evaluation function\n",
        "\n",
        "    # Testing\n",
        "\n",
        "    t = np.random.random(input_shape)[np.newaxis,...]\n",
        "\n",
        "    layer_outputs = fun([t, 1.])\n",
        "\n",
        "    print(layer_outputs)"
      ],
      "execution_count": 0,
      "outputs": []
    },
    {
      "cell_type": "code",
      "metadata": {
        "id": "9YxeElo2ElI3",
        "colab_type": "code",
        "colab": {}
      },
      "source": [
        "def visualize_conv_layer(layer_name):\n",
        "  \n",
        "  layer_output=model1.get_layer(layer_name).output\n",
        "\n",
        "  intermediate_model=Model(inputs=model1.input,outputs=layer_output)\n",
        "\n",
        "  intermediate_prediction=intermediate_model.predict(train_data[0].reshape(1,32,32,3))\n",
        "  \n",
        "  row_size=4\n",
        "  col_size=8\n",
        "  \n",
        "  img_index=0\n",
        "\n",
        "  print(np.shape(intermediate_prediction))\n",
        "  \n",
        "  fig,ax=plt.subplots(row_size,col_size,figsize=(10,8))\n",
        "\n",
        "  for row in range(0,row_size):\n",
        "    for col in range(0,col_size):\n",
        "      ax[row][col].imshow(intermediate_prediction[0, :, :, img_index], cmap='gray')\n",
        "\n",
        "      img_index=img_index+1\n"
      ],
      "execution_count": 0,
      "outputs": []
    },
    {
      "cell_type": "code",
      "metadata": {
        "id": "eeTmYHdoEulc",
        "colab_type": "code",
        "outputId": "069c0568-3323-41d5-ac30-d59a57a357dd",
        "colab": {
          "base_uri": "https://localhost:8080/",
          "height": 468
        }
      },
      "source": [
        "visualize_conv_layer('conv_1')"
      ],
      "execution_count": 0,
      "outputs": [
        {
          "output_type": "stream",
          "text": [
            "(1, 15, 15, 64)\n"
          ],
          "name": "stdout"
        },
        {
          "output_type": "display_data",
          "data": {
            "image/png": "[encoded data removed]",
            "text/plain": [
              "<Figure size 720x576 with 32 Axes>"
            ]
          },
          "metadata": {
            "tags": []
          }
        }
      ]
    },
    {
      "cell_type": "code",
      "metadata": {
        "id": "CeU0orTkF9vT",
        "colab_type": "code",
        "colab": {}
      },
      "source": [
        ""
      ],
      "execution_count": 0,
      "outputs": []
    }
  ]
}