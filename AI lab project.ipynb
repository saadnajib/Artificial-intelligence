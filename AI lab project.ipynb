{
 "cells": [
  {
   "cell_type": "code",
   "execution_count": 77,
   "metadata": {},
   "outputs": [
    {
     "name": "stderr",
     "output_type": "stream",
     "text": [
      "D:\\anaconda\\lib\\site-packages\\sklearn\\utils\\deprecation.py:58: DeprecationWarning: Class Imputer is deprecated; Imputer was deprecated in version 0.20 and will be removed in 0.22. Import impute.SimpleImputer from sklearn instead.\n",
      "  warnings.warn(msg, category=DeprecationWarning)\n"
     ]
    }
   ],
   "source": [
    "import pandas as pd\n",
    "import numpy as np\n",
    "from sklearn.preprocessing import MinMaxScaler\n",
    "from sklearn.preprocessing import LabelEncoder\n",
    "from sklearn.naive_bayes import GaussianNB\n",
    "from sklearn.model_selection import train_test_split\n",
    "from sklearn.preprocessing import Imputer\n",
    "ds = pd.read_excel(\"Employee data new.xlsx\")\n",
    "x = ds.iloc[:,0:6].values\n",
    "y = ds.iloc[:,6].values\n",
    "\n",
    "coder = LabelEncoder()\n",
    "x[:,0] = coder.fit_transform(x[:,0])\n",
    "x[:,1] = coder.fit_transform(x[:,1])\n",
    "x[:,2] = coder.fit_transform(x[:,2])\n",
    "x[:,3] = coder.fit_transform(x[:,3])\n",
    "x[:,4] = coder.fit_transform(x[:,4])\n",
    "x[:,5] = coder.fit_transform(x[:,5])\n",
    "y = coder.fit_transform(y)\n",
    "\n",
    "imp= Imputer(missing_values=np.nan,strategy=\"mean\")\n",
    "X=imp.fit_transform(x)\n",
    "Y=y.reshape(-1,1)\n",
    "Y=imp.fit_transform(Y)\n",
    "\n",
    "\n",
    "from sklearn.preprocessing import MinMaxScaler\n",
    "scaler=MinMaxScaler(feature_range=(0,1))\n",
    "rescaledX=scaler.fit_transform(X[:,3].reshape(-1,1))\n",
    "np.set_printoptions(precision=3)\n",
    "X[:,3]=rescaledX.reshape(1,-1)\n"
   ]
  },
  {
   "cell_type": "code",
   "execution_count": 78,
   "metadata": {},
   "outputs": [
    {
     "data": {
      "text/plain": [
       "(331, 6)"
      ]
     },
     "execution_count": 78,
     "metadata": {},
     "output_type": "execute_result"
    }
   ],
   "source": [
    "from sklearn.model_selection import train_test_split\n",
    "t_size=0.30\n",
    "X_train,X_test,Y_train,Y_test=train_test_split(x,y,test_size= t_size)\n",
    "X_train.shape\n"
   ]
  },
  {
   "cell_type": "code",
   "execution_count": 79,
   "metadata": {},
   "outputs": [
    {
     "data": {
      "image/png": "[encoded data removed]",
      "text/plain": [
       "<Figure size 396x288 with 2 Axes>"
      ]
     },
     "metadata": {
      "needs_background": "light"
     },
     "output_type": "display_data"
    }
   ],
   "source": [
    "from sklearn.neighbors import KNeighborsClassifier\n",
    "knn=KNeighborsClassifier(n_neighbors=5)\n",
    "knn.fit(X_train,Y_train)\n",
    "c1_predicted=knn.predict(X_test)\n",
    "c1_predicted\n",
    "\n",
    "cm = confusion_matrix(Y_test,c1_predicted)\n",
    "plt.figure(figsize=(5.5,4))\n",
    "sns.heatmap(cm,annot=True)\n",
    "plt.title('\\nAccuracy:{0:.3f}'.format(accuracy_score(Y_test,c1_predicted)))\n",
    "plt.ylabel('True label')\n",
    "plt.xlabel('Predicted label')\n",
    "plt.show()"
   ]
  },
  {
   "cell_type": "code",
   "execution_count": 68,
   "metadata": {},
   "outputs": [
    {
     "data": {
      "text/plain": [
       "0.7132867132867133"
      ]
     },
     "execution_count": 68,
     "metadata": {},
     "output_type": "execute_result"
    }
   ],
   "source": [
    "knn.score(X_test,Y_test)"
   ]
  },
  {
   "cell_type": "code",
   "execution_count": 69,
   "metadata": {},
   "outputs": [
    {
     "data": {
      "text/plain": [
       "array([[ 1.   ,  5.   ,  0.   ,  0.74 , 60.   , 39.   ],\n",
       "       [ 1.   ,  6.   ,  1.   ,  0.596, 42.   , 39.   ],\n",
       "       [ 0.   ,  3.   ,  1.   ,  0.139, 13.   , 39.   ],\n",
       "       ...,\n",
       "       [ 1.   ,  5.   ,  1.   ,  0.578, 34.   ,  4.   ],\n",
       "       [ 0.   ,  3.   ,  1.   ,  0.139, 18.   ,  4.   ],\n",
       "       [ 0.   ,  3.   ,  1.   ,  0.381, 27.   ,  4.   ]])"
      ]
     },
     "execution_count": 69,
     "metadata": {},
     "output_type": "execute_result"
    }
   ],
   "source": [
    "X"
   ]
  },
  {
   "cell_type": "code",
   "execution_count": 70,
   "metadata": {},
   "outputs": [
    {
     "data": {
      "image/png": "[encoded data removed]",
      "text/plain": [
       "<Figure size 396x288 with 2 Axes>"
      ]
     },
     "metadata": {
      "needs_background": "light"
     },
     "output_type": "display_data"
    }
   ],
   "source": [
    "model = GaussianNB()\n",
    "model.fit(X_train,Y_train)\n",
    "c2_predicted = model.predict(X_test)\n",
    "c2_predicted\n",
    "\n",
    "cm = confusion_matrix(Y_test,c2_predicted)\n",
    "plt.figure(figsize=(5.5,4))\n",
    "sns.heatmap(cm,annot=True)\n",
    "plt.title('\\nAccuracy:{0:.3f}'.format(accuracy_score(Y_test,c2_predicted)))\n",
    "plt.ylabel('True label')\n",
    "plt.xlabel('Predicted label')\n",
    "plt.show()"
   ]
  },
  {
   "cell_type": "code",
   "execution_count": 71,
   "metadata": {},
   "outputs": [
    {
     "data": {
      "text/plain": [
       "0.6083916083916084"
      ]
     },
     "execution_count": 71,
     "metadata": {},
     "output_type": "execute_result"
    }
   ],
   "source": [
    "model.score(X_test,Y_test)"
   ]
  },
  {
   "cell_type": "code",
   "execution_count": 76,
   "metadata": {},
   "outputs": [
    {
     "data": {
      "image/png": "[encoded data removed]",
      "text/plain": [
       "<Figure size 396x288 with 2 Axes>"
      ]
     },
     "metadata": {
      "needs_background": "light"
     },
     "output_type": "display_data"
    }
   ],
   "source": [
    "import matplotlib.pyplot as plt\n",
    "import seaborn as sns\n",
    "from sklearn.svm import SVC\n",
    "from sklearn.metrics import accuracy_score,confusion_matrix,precision_recall_fscore_support\n",
    "\n",
    "clf=SVC(kernel='linear').fit(X_train,Y_train)\n",
    "Y_pred=clf.predict(X_test)\n",
    "\n",
    "cm=confusion_matrix(Y_test, Y_pred)\n",
    "plt.figure(figsize=(5.5,4))\n",
    "sns.heatmap(cm,annot=True)\n",
    "plt.title('SVM Linear Kernel \\nAccuracy:{0:.3f}'.format(accuracy_score(Y_test,Y_pred)))\n",
    "plt.ylabel('True label')\n",
    "plt.xlabel('Predicted label')\n",
    "plt.show()"
   ]
  },
  {
   "cell_type": "code",
   "execution_count": null,
   "metadata": {},
   "outputs": [],
   "source": []
  }
 ],
 "metadata": {
  "kernelspec": {
   "display_name": "Python 3",
   "language": "python",
   "name": "python3"
  },
  "language_info": {
   "codemirror_mode": {
    "name": "ipython",
    "version": 3
   },
   "file_extension": ".py",
   "mimetype": "text/x-python",
   "name": "python",
   "nbconvert_exporter": "python",
   "pygments_lexer": "ipython3",
   "version": "3.7.3"
  }
 },
 "nbformat": 4,
 "nbformat_minor": 2
}
